{
 "metadata": {
  "language_info": {
   "codemirror_mode": {
    "name": "ipython",
    "version": 3
   },
   "file_extension": ".py",
   "mimetype": "text/x-python",
   "name": "python",
   "nbconvert_exporter": "python",
   "pygments_lexer": "ipython3",
   "version": "3.7.6-final"
  },
  "orig_nbformat": 2,
  "kernelspec": {
   "name": "Python 3.7.6 64-bit ('base': conda)",
   "display_name": "Python 3.7.6 64-bit ('base': conda)",
   "metadata": {
    "interpreter": {
     "hash": "ec9dc639e94f3e6719db49052302ddff9ec6693ba6094e60151dfafe1cc9b621"
    }
   }
  }
 },
 "nbformat": 4,
 "nbformat_minor": 2,
 "cells": [
  {
   "source": [
    "# Use pyradiomics to perform the Feature extraction of the segmentated tumors"
   ],
   "cell_type": "markdown",
   "metadata": {}
  },
  {
   "source": [
    "## 1.Transform all pictures to '.nrrd' format for compatibility"
   ],
   "cell_type": "markdown",
   "metadata": {}
  },
  {
   "cell_type": "code",
   "execution_count": null,
   "metadata": {
    "tags": []
   },
   "outputs": [],
   "source": [
    "from src.utils import png2nrrd\n",
    "\n",
    "png2nrrd(pic_path='./Images', nrrd_path='./Images_nrrd')"
   ]
  },
  {
   "source": [
    "## 2. Use the radiomics feature extractor to generate the extracted features"
   ],
   "cell_type": "markdown",
   "metadata": {}
  },
  {
   "cell_type": "code",
   "execution_count": null,
   "metadata": {},
   "outputs": [],
   "source": [
    "from src.utils import get_df_paths, get_radiomics_from_df\n",
    "\n",
    "# Get the dataframe and all relevant paths\n",
    "df, paths = get_df_paths()\n",
    "\n",
    "# Evaluate wth pyradiomics\n",
    "get_radiomics_from_df(df, paths)"
   ]
  }
 ]
}